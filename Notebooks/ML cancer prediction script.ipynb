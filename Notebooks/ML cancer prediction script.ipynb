{
 "cells": [
  {
   "cell_type": "markdown",
   "id": "171767af-8bc9-4b5e-9875-1a43606263e0",
   "metadata": {},
   "source": [
    "Load libraries"
   ]
  },
  {
   "cell_type": "code",
   "execution_count": null,
   "id": "977d4247-2dc4-4b1b-8ae8-539709e27be9",
   "metadata": {},
   "outputs": [],
   "source": [
    "# data handling\n",
    "import numpy as np\n",
    "import pandas as pd\n",
    "import os\n",
    "\n",
    "# visualisation\n",
    "import matplotlib.pyplot as plt\n",
    "import seaborn as sns\n",
    "\n",
    "# data preprocessing\n",
    "from sklearn.model_selection import train_test_split\n",
    "from sklearn.preprocessing import LabelEncoder\n",
    "from sklearn.preprocessing import label_binarize\n",
    "from sklearn.preprocessing import MinMaxScaler\n",
    "\n",
    "# feature selection\n",
    "from sklearn.feature_selection import mutual_info_classif\n",
    "\n",
    "# classification \n",
    "from sklearn.multiclass import OneVsRestClassifier\n",
    "from sklearn.ensemble import RandomForestClassifier\n",
    "\n",
    "# performance metrics\n",
    "from sklearn.metrics import balanced_accuracy_score, f1_score, precision_score, recall_score\n",
    "from sklearn.metrics import classification_report\n",
    "from sklearn.metrics import confusion_matrix\n",
    "from sklearn.metrics import roc_curve, auc\n",
    "from sklearn.metrics import roc_auc_score"
   ]
  },
  {
   "cell_type": "markdown",
   "id": "039a6830-928c-4ec7-845a-03b34dd4cca8",
   "metadata": {},
   "source": [
    "Read file"
   ]
  },
  {
   "cell_type": "code",
   "execution_count": 10,
   "id": "26ad0de1-eac8-429e-8126-21a3355653da",
   "metadata": {},
   "outputs": [],
   "source": [
    "# read data directly from GitHub\n",
    "def read_file(location):\n",
    "    with open(os.path.expanduser(location), \"r\") as file:\n",
    "        return pd.read_csv(location)\n",
    "\n",
    "cancer_df = read_file(\"~/Desktop/cancer-ML-practice/Data/cancer_gene_expression.zip\")"
   ]
  },
  {
   "cell_type": "markdown",
   "id": "d2af4b60-2ea2-4916-8f75-45906ec93fdd",
   "metadata": {},
   "source": [
    "Data exploration and cleaning"
   ]
  },
  {
   "cell_type": "code",
   "execution_count": 12,
   "id": "406b5f6d-8b35-43a3-bed6-1ad39d244190",
   "metadata": {},
   "outputs": [
    {
     "name": "stdout",
     "output_type": "stream",
     "text": [
      "(801, 8001)\n"
     ]
    }
   ],
   "source": [
    "print(cancer_df.shape) # check everything = alright"
   ]
  },
  {
   "cell_type": "code",
   "execution_count": 14,
   "id": "87792c95-52f1-49ce-86d5-70c2dfac37b8",
   "metadata": {},
   "outputs": [
    {
     "name": "stdout",
     "output_type": "stream",
     "text": [
      "Index(['gene_1', 'gene_2', 'gene_3'], dtype='object')\n"
     ]
    }
   ],
   "source": [
    "print(cancer_df.columns[:3]) # check columns = good data"
   ]
  },
  {
   "cell_type": "code",
   "execution_count": 16,
   "id": "cc853c54-f6c6-4474-b17f-bd1d742b7650",
   "metadata": {},
   "outputs": [
    {
     "name": "stdout",
     "output_type": "stream",
     "text": [
      "Cancer_Type\n"
     ]
    }
   ],
   "source": [
    "print(cancer_df.columns[-1])"
   ]
  },
  {
   "cell_type": "code",
   "execution_count": 20,
   "id": "c7207a68-a581-4015-a65f-7f5e6d8e4e36",
   "metadata": {},
   "outputs": [
    {
     "name": "stdout",
     "output_type": "stream",
     "text": [
      "columns with missing values:0\n"
     ]
    }
   ],
   "source": [
    "# check for missing values\n",
    "null_data = cancer_df.isnull().sum()\n",
    "g = [i for i in null_data if i > 0]\n",
    "\n",
    "print(\"columns with missing values:%d\"%len(g))"
   ]
  },
  {
   "cell_type": "code",
   "execution_count": 26,
   "id": "aa5e94ae-0730-4c21-ac09-2ec4f163bf32",
   "metadata": {},
   "outputs": [
    {
     "name": "stdout",
     "output_type": "stream",
     "text": [
      "Cancer_Type\n",
      "BRCA    300\n",
      "KIRC    146\n",
      "LUAD    141\n",
      "PRAD    136\n",
      "COAD     78\n",
      "Name: count, dtype: int64\n"
     ]
    }
   ],
   "source": [
    "# check how many different cancer types are there within the df\n",
    "# cancer types = classifier model -> classes\n",
    "print(cancer_df[\"Cancer_Type\"].value_counts())"
   ]
  },
  {
   "cell_type": "code",
   "execution_count": 36,
   "id": "d55de6a0-5046-469c-bfdb-d33bdcc516b5",
   "metadata": {},
   "outputs": [
    {
     "data": {
      "text/plain": [
       "<Axes: xlabel='Cancer_Type'>"
      ]
     },
     "execution_count": 36,
     "metadata": {},
     "output_type": "execute_result"
    },
    {
     "data": {
      "image/png": "[encoded data removed]",
      "text/plain": [
       "<Figure size 1000x400 with 1 Axes>"
      ]
     },
     "metadata": {},
     "output_type": "display_data"
    }
   ],
   "source": [
    "# let´s look at a bar chart to check class distribution (balance?)\n",
    "cancer_df[\"Cancer_Type\"].value_counts().plot(kind = \"bar\", figsize = (10,4))"
   ]
  },
  {
   "cell_type": "markdown",
   "id": "7c561e9a-b5b9-49b8-a5af-3575d4c4b1bf",
   "metadata": {},
   "source": [
    "Data preprocessing"
   ]
  },
  {
   "cell_type": "code",
   "execution_count": 42,
   "id": "d7b4db56-5ae2-45b2-a5d3-f672ab586e6b",
   "metadata": {},
   "outputs": [],
   "source": [
    "# High fit proportion of Breast Cancer samples (overfit)\n",
    "# Class imbalance - high proportion of 1 class with respect to the others\n",
    "# Separate feature values from the class\n",
    "\n",
    "X = cancer_df.iloc[:,0:-1] # supervised learning\n",
    "Y = cancer_df.iloc[:,-1]"
   ]
  },
  {
   "cell_type": "code",
   "execution_count": 44,
   "id": "ba58731c-4ce5-4994-b25f-7a449deff668",
   "metadata": {},
   "outputs": [
    {
     "data": {
      "text/plain": [
       "((801, 8000), (801,))"
      ]
     },
     "execution_count": 44,
     "metadata": {},
     "output_type": "execute_result"
    }
   ],
   "source": [
    "X.shape, Y.shape"
   ]
  },
  {
   "cell_type": "code",
   "execution_count": 46,
   "id": "6fb3743b-52f1-4075-abec-a3e16b251a56",
   "metadata": {},
   "outputs": [],
   "source": [
    "# Code levels (0- n_classes - 1) - True or false predictions\n",
    "# label_encoder -> need to change categorial cancer classes to numerical \n",
    "\n",
    "label_encoder = LabelEncoder()\n",
    "label_encoder.fit(y)\n",
    "y_encoded = label_encoder.transform(y)\n",
    "labels = label_encoder.classes_\n",
    "classes = np.unique(y_encoded)"
   ]
  },
  {
   "cell_type": "code",
   "execution_count": 48,
   "id": "2e3a85c8-c0fc-4756-a539-dae57ccbd6f7",
   "metadata": {},
   "outputs": [
    {
     "data": {
      "text/plain": [
       "array(['BRCA', 'COAD', 'KIRC', 'LUAD', 'PRAD'], dtype=object)"
      ]
     },
     "execution_count": 48,
     "metadata": {},
     "output_type": "execute_result"
    }
   ],
   "source": [
    "labels"
   ]
  },
  {
   "cell_type": "code",
   "execution_count": 52,
   "id": "3204935c-9c09-41a3-b95b-a684fe01b9d3",
   "metadata": {},
   "outputs": [
    {
     "data": {
      "text/plain": [
       "array([0, 1, 2, 3, 4])"
      ]
     },
     "execution_count": 52,
     "metadata": {},
     "output_type": "execute_result"
    }
   ],
   "source": [
    "classes # arranged in alphabetical order"
   ]
  },
  {
   "cell_type": "markdown",
   "id": "951281b5-49de-4648-94d7-77d02eb554af",
   "metadata": {},
   "source": [
    "Data Splitting "
   ]
  },
  {
   "cell_type": "code",
   "execution_count": 54,
   "id": "c4122b4d-2cfa-4130-ac52-27927ca20f13",
   "metadata": {},
   "outputs": [],
   "source": [
    "# Training and test data splitting\n",
    "# train the model -> td -> learn -> test data -> predict (data never seen before)\n",
    "# Split data (80% = training, 20% = test)\n",
    "\n",
    "X_train, X_test, y_train, y_test = train_test_split(X, y_encoded, test_size = 0.2, random_state = 42)"
   ]
  },
  {
   "cell_type": "code",
   "execution_count": 60,
   "id": "0d990d96-c86e-497a-a887-d4522834c2c0",
   "metadata": {},
   "outputs": [
    {
     "data": {
      "text/html": [
       "<div>\n",
       "<style scoped>\n",
       "    .dataframe tbody tr th:only-of-type {\n",
       "        vertical-align: middle;\n",
       "    }\n",
       "\n",
       "    .dataframe tbody tr th {\n",
       "        vertical-align: top;\n",
       "    }\n",
       "\n",
       "    .dataframe thead th {\n",
       "        text-align: right;\n",
       "    }\n",
       "</style>\n",
       "<table border=\"1\" class=\"dataframe\">\n",
       "  <thead>\n",
       "    <tr style=\"text-align: right;\">\n",
       "      <th></th>\n",
       "      <th>gene_1</th>\n",
       "      <th>gene_2</th>\n",
       "      <th>gene_3</th>\n",
       "      <th>gene_4</th>\n",
       "      <th>gene_5</th>\n",
       "      <th>gene_6</th>\n",
       "      <th>gene_7</th>\n",
       "      <th>gene_8</th>\n",
       "      <th>gene_9</th>\n",
       "      <th>gene_10</th>\n",
       "    </tr>\n",
       "  </thead>\n",
       "  <tbody>\n",
       "    <tr>\n",
       "      <th>count</th>\n",
       "      <td>801.000000</td>\n",
       "      <td>801.000000</td>\n",
       "      <td>801.000000</td>\n",
       "      <td>801.000000</td>\n",
       "      <td>801.000000</td>\n",
       "      <td>801.000000</td>\n",
       "      <td>801.000000</td>\n",
       "      <td>801.000000</td>\n",
       "      <td>801.000000</td>\n",
       "      <td>801.000000</td>\n",
       "    </tr>\n",
       "    <tr>\n",
       "      <th>mean</th>\n",
       "      <td>0.026642</td>\n",
       "      <td>0.231049</td>\n",
       "      <td>0.010844</td>\n",
       "      <td>2.405459</td>\n",
       "      <td>0.005799</td>\n",
       "      <td>0.065640</td>\n",
       "      <td>0.022036</td>\n",
       "      <td>0.028394</td>\n",
       "      <td>0.703998</td>\n",
       "      <td>1.916364</td>\n",
       "    </tr>\n",
       "    <tr>\n",
       "      <th>std</th>\n",
       "      <td>0.136850</td>\n",
       "      <td>0.656692</td>\n",
       "      <td>0.153859</td>\n",
       "      <td>0.797236</td>\n",
       "      <td>0.052265</td>\n",
       "      <td>0.213557</td>\n",
       "      <td>0.148917</td>\n",
       "      <td>0.161606</td>\n",
       "      <td>0.779321</td>\n",
       "      <td>0.877010</td>\n",
       "    </tr>\n",
       "    <tr>\n",
       "      <th>min</th>\n",
       "      <td>0.000000</td>\n",
       "      <td>0.000000</td>\n",
       "      <td>0.000000</td>\n",
       "      <td>0.000000</td>\n",
       "      <td>0.000000</td>\n",
       "      <td>0.000000</td>\n",
       "      <td>0.000000</td>\n",
       "      <td>0.000000</td>\n",
       "      <td>0.000000</td>\n",
       "      <td>0.000000</td>\n",
       "    </tr>\n",
       "    <tr>\n",
       "      <th>25%</th>\n",
       "      <td>0.000000</td>\n",
       "      <td>0.000000</td>\n",
       "      <td>0.000000</td>\n",
       "      <td>1.898595</td>\n",
       "      <td>0.000000</td>\n",
       "      <td>0.000000</td>\n",
       "      <td>0.000000</td>\n",
       "      <td>0.000000</td>\n",
       "      <td>0.000000</td>\n",
       "      <td>1.357214</td>\n",
       "    </tr>\n",
       "    <tr>\n",
       "      <th>50%</th>\n",
       "      <td>0.000000</td>\n",
       "      <td>0.000000</td>\n",
       "      <td>0.000000</td>\n",
       "      <td>2.358284</td>\n",
       "      <td>0.000000</td>\n",
       "      <td>0.000000</td>\n",
       "      <td>0.000000</td>\n",
       "      <td>0.000000</td>\n",
       "      <td>0.518031</td>\n",
       "      <td>1.877862</td>\n",
       "    </tr>\n",
       "    <tr>\n",
       "      <th>75%</th>\n",
       "      <td>0.000000</td>\n",
       "      <td>0.000000</td>\n",
       "      <td>0.000000</td>\n",
       "      <td>2.929355</td>\n",
       "      <td>0.000000</td>\n",
       "      <td>0.000000</td>\n",
       "      <td>0.000000</td>\n",
       "      <td>0.000000</td>\n",
       "      <td>1.123931</td>\n",
       "      <td>2.486792</td>\n",
       "    </tr>\n",
       "    <tr>\n",
       "      <th>max</th>\n",
       "      <td>1.482332</td>\n",
       "      <td>6.575004</td>\n",
       "      <td>3.778061</td>\n",
       "      <td>4.746646</td>\n",
       "      <td>0.570754</td>\n",
       "      <td>1.866275</td>\n",
       "      <td>2.169925</td>\n",
       "      <td>2.375957</td>\n",
       "      <td>4.541670</td>\n",
       "      <td>4.932231</td>\n",
       "    </tr>\n",
       "  </tbody>\n",
       "</table>\n",
       "</div>"
      ],
      "text/plain": [
       "           gene_1      gene_2      gene_3      gene_4      gene_5      gene_6  \\\n",
       "count  801.000000  801.000000  801.000000  801.000000  801.000000  801.000000   \n",
       "mean     0.026642    0.231049    0.010844    2.405459    0.005799    0.065640   \n",
       "std      0.136850    0.656692    0.153859    0.797236    0.052265    0.213557   \n",
       "min      0.000000    0.000000    0.000000    0.000000    0.000000    0.000000   \n",
       "25%      0.000000    0.000000    0.000000    1.898595    0.000000    0.000000   \n",
       "50%      0.000000    0.000000    0.000000    2.358284    0.000000    0.000000   \n",
       "75%      0.000000    0.000000    0.000000    2.929355    0.000000    0.000000   \n",
       "max      1.482332    6.575004    3.778061    4.746646    0.570754    1.866275   \n",
       "\n",
       "           gene_7      gene_8      gene_9     gene_10  \n",
       "count  801.000000  801.000000  801.000000  801.000000  \n",
       "mean     0.022036    0.028394    0.703998    1.916364  \n",
       "std      0.148917    0.161606    0.779321    0.877010  \n",
       "min      0.000000    0.000000    0.000000    0.000000  \n",
       "25%      0.000000    0.000000    0.000000    1.357214  \n",
       "50%      0.000000    0.000000    0.518031    1.877862  \n",
       "75%      0.000000    0.000000    1.123931    2.486792  \n",
       "max      2.169925    2.375957    4.541670    4.932231  "
      ]
     },
     "execution_count": 60,
     "metadata": {},
     "output_type": "execute_result"
    }
   ],
   "source": [
    "cancer_df.iloc[:,0:10].describe() # descriptives (hmmm, normalising is needed!!)"
   ]
  },
  {
   "cell_type": "markdown",
   "id": "97f1ae02-0c2f-4559-881e-a48d2e4015f9",
   "metadata": {},
   "source": [
    "Data Normalisation"
   ]
  },
  {
   "cell_type": "code",
   "execution_count": 64,
   "id": "f99da28b-99a4-4c44-aec6-6005eedcf2e4",
   "metadata": {},
   "outputs": [],
   "source": [
    "# 0 - 1 scale -> avoid bias -> avoid overfitting of dominant class\n",
    "# same scale for model predictions\n",
    "min_max_scaler = MinMaxScaler()\n",
    "X_train_norm = min_max_scaler.fit_transform(X_train)\n",
    "X_test_norm = min_max_scaler.fit_transform(X_test)"
   ]
  },
  {
   "cell_type": "code",
   "execution_count": 72,
   "id": "c0cf304c-2b7c-47c0-b4a6-3a05d54c5c5a",
   "metadata": {},
   "outputs": [
    {
     "name": "stdout",
     "output_type": "stream",
     "text": [
      "<class 'pandas.core.frame.DataFrame'> <class 'pandas.core.frame.DataFrame'>\n",
      "     gene_1    gene_2  gene_3    gene_4  gene_5    gene_6  gene_7  gene_8  \\\n",
      "616     0.0  0.000000     0.0  2.181643     0.0  0.913952     0.0     0.0   \n",
      "329     0.0  1.002954     0.0  2.879569     0.0  0.000000     0.0     0.0   \n",
      "342     0.0  0.000000     0.0  2.431543     0.0  0.000000     0.0     0.0   \n",
      "\n",
      "       gene_9   gene_10  ...  gene_7991  gene_7992  gene_7993  gene_7994  \\\n",
      "616  0.000000  2.845831  ...   6.164583  11.978210   8.022717   5.912640   \n",
      "329  0.000000  0.739330  ...   5.170714  11.612615   6.855516   3.327242   \n",
      "342  1.301529  1.301529  ...   8.348458  11.421492   7.999386   7.061485   \n",
      "\n",
      "     gene_7995  gene_7996  gene_7997  gene_7998  gene_7999  gene_8000  \n",
      "616   6.439038  11.311311   6.631442   9.911364   7.942022   1.868884  \n",
      "329   6.778445  11.909657   7.518936  10.342030   5.005719   0.416516  \n",
      "342   7.065432  11.616668   7.737477  10.092242   7.395440   3.395310  \n",
      "\n",
      "[3 rows x 8000 columns]      gene_1    gene_2  gene_3    gene_4  gene_5  gene_6  gene_7  gene_8  \\\n",
      "697     0.0  0.904272     0.0  2.018064     0.0     0.0     0.0     0.0   \n",
      "668     0.0  0.000000     0.0  2.979147     0.0     0.0     0.0     0.0   \n",
      "63      0.0  0.000000     0.0  2.327227     0.0     0.0     0.0     0.0   \n",
      "\n",
      "       gene_9   gene_10  ...  gene_7991  gene_7992  gene_7993  gene_7994  \\\n",
      "697  0.000000  0.000000  ...   7.268509  10.989104   7.700398   6.786335   \n",
      "668  0.000000  0.988121  ...   5.309220  11.756289   8.758660   5.686271   \n",
      "63   1.720804  1.103061  ...   7.769653  12.414294   6.904833   4.776441   \n",
      "\n",
      "     gene_7995  gene_7996  gene_7997  gene_7998  gene_7999  gene_8000  \n",
      "697   6.497204  12.005516   7.745042  10.129940   7.322460   2.165494  \n",
      "668   6.918863  11.880670   6.198867   9.984604   5.457818   1.569102  \n",
      "63    6.767152  11.746569   8.422632  10.315433   5.099931   2.870779  \n",
      "\n",
      "[3 rows x 8000 columns]\n"
     ]
    }
   ],
   "source": [
    "print(type(X_train), type(X_test))\n",
    "print(X_train.iloc[0:3], X_test.iloc[0:3])"
   ]
  },
  {
   "cell_type": "code",
   "execution_count": 78,
   "id": "4ff4ebf7-d68a-4798-8b5d-0cff49c42391",
   "metadata": {},
   "outputs": [
    {
     "data": {
      "text/plain": [
       "(array([[0.        , 0.        , 0.        , ..., 0.25369517, 0.74064352,\n",
       "         0.19190747],\n",
       "        [0.        , 0.15254052, 0.        , ..., 0.35669972, 0.43979635,\n",
       "         0.04277014],\n",
       "        [0.        , 0.        , 0.        , ..., 0.29695667, 0.68464193,\n",
       "         0.34864934]]),\n",
       " array([[0.        , 0.19882157, 0.        , ..., 0.4638307 , 0.59985324,\n",
       "         0.33150433],\n",
       "        [0.        , 0.        , 0.        , ..., 0.40756754, 0.41138554,\n",
       "         0.24020578],\n",
       "        [0.        , 0.        , 0.        , ..., 0.53563946, 0.37521231,\n",
       "         0.43947279]]))"
      ]
     },
     "execution_count": 78,
     "metadata": {},
     "output_type": "execute_result"
    }
   ],
   "source": [
    "X_train_norm[0:3], X_test_norm[0:3] # good!"
   ]
  },
  {
   "cell_type": "markdown",
   "id": "f307b91f-2827-4fd2-b797-5c6442237bf9",
   "metadata": {},
   "source": [
    "Feature selection"
   ]
  },
  {
   "cell_type": "code",
   "execution_count": 80,
   "id": "5f90a20f-9afa-44b0-9577-07fd3416e202",
   "metadata": {},
   "outputs": [],
   "source": [
    "# select relevant features for classification\n",
    "# scores for each of the features (relevance of features) -> top \"n\" features\n",
    "\n",
    "MI = mutual_info_classif(X_train_norm, y_train)"
   ]
  },
  {
   "cell_type": "code",
   "execution_count": 82,
   "id": "1190d1cf-d233-4147-a0da-a26686ea58b9",
   "metadata": {},
   "outputs": [
    {
     "data": {
      "text/plain": [
       "(8000,)"
      ]
     },
     "execution_count": 82,
     "metadata": {},
     "output_type": "execute_result"
    }
   ],
   "source": [
    "MI.shape"
   ]
  },
  {
   "cell_type": "code",
   "execution_count": 84,
   "id": "db897bf7-311c-4cc8-8039-9bb973db0d7e",
   "metadata": {},
   "outputs": [
    {
     "data": {
      "text/plain": [
       "array([0.00371675, 0.04406334, 0.04316379, 0.05026605])"
      ]
     },
     "execution_count": 84,
     "metadata": {},
     "output_type": "execute_result"
    }
   ],
   "source": [
    "MI[0:4]"
   ]
  },
  {
   "cell_type": "code",
   "execution_count": 86,
   "id": "27404b10-9b65-4670-8556-32b6d5e9e721",
   "metadata": {},
   "outputs": [],
   "source": [
    "features = X_train.columns"
   ]
  },
  {
   "cell_type": "code",
   "execution_count": 88,
   "id": "5430d159-9971-4193-a411-496adf712027",
   "metadata": {},
   "outputs": [
    {
     "data": {
      "text/plain": [
       "Index(['gene_1', 'gene_2', 'gene_3', 'gene_4'], dtype='object')"
      ]
     },
     "execution_count": 88,
     "metadata": {},
     "output_type": "execute_result"
    }
   ],
   "source": [
    "features[0:4]"
   ]
  },
  {
   "cell_type": "code",
   "execution_count": 90,
   "id": "1e35ad3d-e08a-468a-9473-a99925b41a62",
   "metadata": {},
   "outputs": [],
   "source": [
    "# select top n features (n = 300)\n",
    "n_features = 300\n",
    "selected_scores_indices = np.argsort(MI) [::-1] [0:n_features] # sort in desc -> select top n features"
   ]
  },
  {
   "cell_type": "code",
   "execution_count": 94,
   "id": "6ef1b25f-7247-4336-8143-d4e5d5cd5b5f",
   "metadata": {},
   "outputs": [],
   "source": [
    "# use indices to select them\n",
    "X_train_selected = X_train_norm[:,selected_scores_indices]\n",
    "X_test_selected = X_test_norm[:, selected_scores_indices]"
   ]
  },
  {
   "cell_type": "code",
   "execution_count": 96,
   "id": "c44c31c5-9048-4443-ba21-c4c223a32b13",
   "metadata": {},
   "outputs": [
    {
     "data": {
      "text/plain": [
       "((640, 300), (161, 300))"
      ]
     },
     "execution_count": 96,
     "metadata": {},
     "output_type": "execute_result"
    }
   ],
   "source": [
    "X_train_selected.shape, X_test_selected.shape # 300 features"
   ]
  },
  {
   "cell_type": "markdown",
   "id": "e5d5567c-a4a1-48f2-b50a-fc177dc18606",
   "metadata": {},
   "source": [
    "Classification (Random Forest)"
   ]
  },
  {
   "cell_type": "code",
   "execution_count": null,
   "id": "ebc24980-fa5a-4c86-b564-80e50d10a0c8",
   "metadata": {},
   "outputs": [],
   "source": [
    "# RF classifier\n",
    "# Tell that sample x = cancer_type(z)"
   ]
  },
  {
   "cell_type": "markdown",
   "id": "7a2277da-ee51-4c14-8150-3b63dc023feb",
   "metadata": {},
   "source": [
    "Model Training"
   ]
  },
  {
   "cell_type": "code",
   "execution_count": 98,
   "id": "e57d5aec-89b7-46c0-b6de-e5a3c03ff116",
   "metadata": {},
   "outputs": [],
   "source": [
    "RF = OneVsRestClassifier(RandomForestClassifier(max_features = 0.2))\n",
    "RF.fit(X_train_selected, y_train)\n",
    "y_pred = RF.predict(X_test_selected)\n",
    "pred_prob = RF.predict_proba(X_test_selected)"
   ]
  },
  {
   "cell_type": "markdown",
   "id": "aaea4a0f-a44c-4f79-9316-569ed195a2f2",
   "metadata": {},
   "source": [
    "Model evaluation (accuracy, precision, recall, F1, confusion matrix, ROC curve)"
   ]
  },
  {
   "cell_type": "code",
   "execution_count": 100,
   "id": "5da00eeb-41cc-4510-9b4f-3fc0ba37d6cb",
   "metadata": {},
   "outputs": [
    {
     "name": "stdout",
     "output_type": "stream",
     "text": [
      "accuracy:0.9550\n"
     ]
    }
   ],
   "source": [
    "# accuracy\n",
    "accuracy = np.round(balanced_accuracy_score(y_test, y_pred), 4)\n",
    "print(\"accuracy:%0.4f\"%accuracy)"
   ]
  },
  {
   "cell_type": "code",
   "execution_count": 102,
   "id": "5888550e-7766-4300-a35d-1802ec9af3a3",
   "metadata": {},
   "outputs": [
    {
     "name": "stdout",
     "output_type": "stream",
     "text": [
      "precision:0.9695\n"
     ]
    }
   ],
   "source": [
    "# precision\n",
    "precision = np.round(precision_score(y_test, y_pred, average = \"weighted\"), 4)\n",
    "print(\"precision:%0.4f\"%precision)"
   ]
  },
  {
   "cell_type": "code",
   "execution_count": 104,
   "id": "96005921-7aee-47b8-bc9e-4b5c9dfecd06",
   "metadata": {},
   "outputs": [
    {
     "name": "stdout",
     "output_type": "stream",
     "text": [
      "recall:0.9689\n"
     ]
    }
   ],
   "source": [
    "# recall\n",
    "recall = np.round(recall_score(y_test, y_pred, average = \"weighted\"), 4)\n",
    "print(\"recall:%0.4f\"%recall)"
   ]
  },
  {
   "cell_type": "code",
   "execution_count": 106,
   "id": "034b109c-a25f-4210-8936-3655e2eba181",
   "metadata": {},
   "outputs": [
    {
     "name": "stdout",
     "output_type": "stream",
     "text": [
      "f1 score:0.9687\n"
     ]
    }
   ],
   "source": [
    "f1_score = np.round(f1_score(y_test, y_pred, average = \"weighted\"), 4)\n",
    "print(\"f1 score:%0.4f\"%f1_score)"
   ]
  },
  {
   "cell_type": "code",
   "execution_count": 108,
   "id": "5673ad4d-31ec-4d61-8493-efed159cc28d",
   "metadata": {},
   "outputs": [
    {
     "name": "stdout",
     "output_type": "stream",
     "text": [
      "\n",
      "\n",
      "classification report\n",
      "\n",
      "\n",
      "              precision    recall  f1-score   support\n",
      "\n",
      "        BRCA       0.95      0.98      0.97        60\n",
      "        COAD       1.00      0.88      0.93        16\n",
      "        KIRC       1.00      1.00      1.00        28\n",
      "        LUAD       0.92      0.92      0.92        24\n",
      "        PRAD       1.00      1.00      1.00        33\n",
      "\n",
      "    accuracy                           0.97       161\n",
      "   macro avg       0.97      0.96      0.96       161\n",
      "weighted avg       0.97      0.97      0.97       161\n",
      "\n"
     ]
    }
   ],
   "source": [
    "report = classification_report(y_test, y_pred, target_names = labels)\n",
    "print(\"\\n\")\n",
    "print(\"classification report\\n\\n\")\n",
    "print(report)"
   ]
  },
  {
   "cell_type": "code",
   "execution_count": null,
   "id": "84680b2f-81b4-4bc9-99ed-f481aca54b63",
   "metadata": {},
   "outputs": [],
   "source": [
    "# all approaching the value of 1 -> model performance = good!"
   ]
  },
  {
   "cell_type": "code",
   "execution_count": 110,
   "id": "1dedb943-6f47-4088-a520-17aad5472fa8",
   "metadata": {},
   "outputs": [],
   "source": [
    "# generate confusion matrix\n",
    "cm = confusion_matrix(y_test, y_pred)\n",
    "cm_df = pd.DataFrame(cm, index = labels, columns = labels)"
   ]
  },
  {
   "cell_type": "code",
   "execution_count": 114,
   "id": "123989d6-ea39-4fdf-9637-e01a71ed9372",
   "metadata": {},
   "outputs": [
    {
     "data": {
      "text/html": [
       "<div>\n",
       "<style scoped>\n",
       "    .dataframe tbody tr th:only-of-type {\n",
       "        vertical-align: middle;\n",
       "    }\n",
       "\n",
       "    .dataframe tbody tr th {\n",
       "        vertical-align: top;\n",
       "    }\n",
       "\n",
       "    .dataframe thead th {\n",
       "        text-align: right;\n",
       "    }\n",
       "</style>\n",
       "<table border=\"1\" class=\"dataframe\">\n",
       "  <thead>\n",
       "    <tr style=\"text-align: right;\">\n",
       "      <th></th>\n",
       "      <th>BRCA</th>\n",
       "      <th>COAD</th>\n",
       "      <th>KIRC</th>\n",
       "      <th>LUAD</th>\n",
       "      <th>PRAD</th>\n",
       "    </tr>\n",
       "  </thead>\n",
       "  <tbody>\n",
       "    <tr>\n",
       "      <th>BRCA</th>\n",
       "      <td>59</td>\n",
       "      <td>0</td>\n",
       "      <td>0</td>\n",
       "      <td>1</td>\n",
       "      <td>0</td>\n",
       "    </tr>\n",
       "    <tr>\n",
       "      <th>COAD</th>\n",
       "      <td>1</td>\n",
       "      <td>14</td>\n",
       "      <td>0</td>\n",
       "      <td>1</td>\n",
       "      <td>0</td>\n",
       "    </tr>\n",
       "    <tr>\n",
       "      <th>KIRC</th>\n",
       "      <td>0</td>\n",
       "      <td>0</td>\n",
       "      <td>28</td>\n",
       "      <td>0</td>\n",
       "      <td>0</td>\n",
       "    </tr>\n",
       "    <tr>\n",
       "      <th>LUAD</th>\n",
       "      <td>2</td>\n",
       "      <td>0</td>\n",
       "      <td>0</td>\n",
       "      <td>22</td>\n",
       "      <td>0</td>\n",
       "    </tr>\n",
       "    <tr>\n",
       "      <th>PRAD</th>\n",
       "      <td>0</td>\n",
       "      <td>0</td>\n",
       "      <td>0</td>\n",
       "      <td>0</td>\n",
       "      <td>33</td>\n",
       "    </tr>\n",
       "  </tbody>\n",
       "</table>\n",
       "</div>"
      ],
      "text/plain": [
       "      BRCA  COAD  KIRC  LUAD  PRAD\n",
       "BRCA    59     0     0     1     0\n",
       "COAD     1    14     0     1     0\n",
       "KIRC     0     0    28     0     0\n",
       "LUAD     2     0     0    22     0\n",
       "PRAD     0     0     0     0    33"
      ]
     },
     "execution_count": 114,
     "metadata": {},
     "output_type": "execute_result"
    }
   ],
   "source": [
    "cm_df # 59 predicted cases of BRC and  1 of LUAD\n",
    "# missclassifications! #1 and #2"
   ]
  },
  {
   "cell_type": "code",
   "execution_count": 116,
   "id": "4b1689f3-75d3-44ad-9a31-ada25a9a869a",
   "metadata": {},
   "outputs": [
    {
     "data": {
      "text/plain": [
       "Text(50.722222222222214, 0.5, 'True Function')"
      ]
     },
     "execution_count": 116,
     "metadata": {},
     "output_type": "execute_result"
    },
    {
     "data": {
      "image/png": "[encoded data removed]",
      "text/plain": [
       "<Figure size 640x480 with 2 Axes>"
      ]
     },
     "metadata": {},
     "output_type": "display_data"
    }
   ],
   "source": [
    "# visualise confusion matrix as a heatmap\n",
    "sns.heatmap(cm_df, annot = True, cmap = \"Blues\")\n",
    "plt.xlabel(\"Predicted Labels\")\n",
    "plt.ylabel(\"True Function\")"
   ]
  },
  {
   "cell_type": "code",
   "execution_count": 142,
   "id": "27d03784-8b3d-4e82-bfe8-b65741bcf6ea",
   "metadata": {},
   "outputs": [
    {
     "ename": "NameError",
     "evalue": "name 'plt_confusion_matrix' is not defined",
     "output_type": "error",
     "traceback": [
      "\u001b[0;31m---------------------------------------------------------------------------\u001b[0m",
      "\u001b[0;31mNameError\u001b[0m                                 Traceback (most recent call last)",
      "Cell \u001b[0;32mIn[142], line 1\u001b[0m\n\u001b[0;32m----> 1\u001b[0m disp \u001b[38;5;241m=\u001b[39m plt_confusion_matrix(RF, X_test_selected, y_test, xticks_rotation \u001b[38;5;241m=\u001b[39m \u001b[38;5;124m\"\u001b[39m\u001b[38;5;124mvertical\u001b[39m\u001b[38;5;124m\"\u001b[39m,\n\u001b[1;32m      2\u001b[0m                              cmap \u001b[38;5;241m=\u001b[39m \u001b[38;5;124m\"\u001b[39m\u001b[38;5;124mBlues\u001b[39m\u001b[38;5;124m\"\u001b[39m, display_labels \u001b[38;5;241m=\u001b[39m labels)\n",
      "\u001b[0;31mNameError\u001b[0m: name 'plt_confusion_matrix' is not defined"
     ]
    }
   ],
   "source": [
    "disp = plt_confusion_matrix(RF, X_test_selected, y_test, xticks_rotation = \"vertical\",\n",
    "                             cmap = \"Blues\", display_labels = labels)"
   ]
  },
  {
   "cell_type": "code",
   "execution_count": 144,
   "id": "5cf46a0c-d57e-43fe-bf34-78d731bcab27",
   "metadata": {},
   "outputs": [
    {
     "data": {
      "text/plain": [
       "(161, 5)"
      ]
     },
     "execution_count": 144,
     "metadata": {},
     "output_type": "execute_result"
    }
   ],
   "source": [
    "pred_prob.shape"
   ]
  },
  {
   "cell_type": "code",
   "execution_count": 146,
   "id": "adee3ed7-75d5-4b70-a1c3-e4a62c6102d5",
   "metadata": {},
   "outputs": [
    {
     "data": {
      "text/plain": [
       "(161,)"
      ]
     },
     "execution_count": 146,
     "metadata": {},
     "output_type": "execute_result"
    }
   ],
   "source": [
    "y_pred.shape"
   ]
  },
  {
   "cell_type": "code",
   "execution_count": 158,
   "id": "690e2b59-50b9-4784-b7a0-065935b6aecd",
   "metadata": {},
   "outputs": [
    {
     "data": {
      "image/png": "[encoded data removed]",
      "text/plain": [
       "<Figure size 640x480 with 1 Axes>"
      ]
     },
     "metadata": {},
     "output_type": "display_data"
    }
   ],
   "source": [
    "# roc curves per class\n",
    "# visualise the performance of models\n",
    "# binarise y_test labels\n",
    "# need to put it in the same format as pred_prob\n",
    "y_test_binarised = label_binarize(y_test, classes = classes)\n",
    "\n",
    "# roc curve for classes\n",
    "fpr = {}\n",
    "tpr = {}\n",
    "thresh = {}\n",
    "roc_auc = dict()\n",
    "\n",
    "n_class = classes.shape[0]\n",
    "\n",
    "for i in range(n_class):\n",
    "    fpr[i], tpr[i], thresh[i] = roc_curve(y_test_binarised[:,i], pred_prob[:,i])\n",
    "    roc_auc[i] = auc(fpr[i], tpr[i])\n",
    "    # plot\n",
    "    plt.plot(fpr[i], tpr[i], linestyle=\"--\",\n",
    "    label = \"%s vs Rest (AUC=%0.2f)\"%(labels[i], roc_auc[i]))\n",
    "\n",
    "plt.plot([0,1], [0,1], \"b--\")\n",
    "plt.xlim([0,1])\n",
    "plt.ylim([0,1.05])\n",
    "plt.title(\"Multiclass ROC curve\")\n",
    "plt.xlabel(\"False Positive Rate\")\n",
    "plt.ylabel(\"True Positive Rate\")\n",
    "plt.legend(loc = \"lower right\")\n",
    "plt.show()"
   ]
  }
 ],
 "metadata": {
  "kernelspec": {
   "display_name": "Python 3 (ipykernel)",
   "language": "python",
   "name": "python3"
  },
  "language_info": {
   "codemirror_mode": {
    "name": "ipython",
    "version": 3
   },
   "file_extension": ".py",
   "mimetype": "text/x-python",
   "name": "python",
   "nbconvert_exporter": "python",
   "pygments_lexer": "ipython3",
   "version": "3.12.4"
  }
 },
 "nbformat": 4,
 "nbformat_minor": 5
}
